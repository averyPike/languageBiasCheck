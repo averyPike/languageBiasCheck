{
  "cells": [
    {
      "cell_type": "markdown",
      "metadata": {
        "id": "ta4B7Z6liHqq"
      },
      "source": [
        "## Introduction\n",
        "\n",
        "Is is possible to predict the gender of a character in a story using the pronouns around them?\n",
        "\n",
        "Yes\n",
        "\n",
        "He and she are objective pronouns\n",
        "\n",
        "Him and her are subjective pronouns\n",
        "\n",
        "His and her are possessive adjectives\n",
        "\n",
        "His and hers are possessive pronouns\n",
        "\n",
        "\"Her\" is possessive when followed by a noun.\n",
        "\n",
        "## Methodology\n",
        "\n",
        "## Hypothesis\n",
        "\n"
      ]
    },
    {
      "cell_type": "code",
      "execution_count": 87,
      "metadata": {
        "colab": {
          "base_uri": "https://localhost:8080/"
        },
        "id": "vsMErUvkqQHk",
        "outputId": "3fdaa5ec-65ed-426a-8b2b-d29857da260b"
      },
      "outputs": [
        {
          "output_type": "stream",
          "name": "stdout",
          "text": [
            "Requirement already satisfied: sparknlp in /usr/local/lib/python3.10/dist-packages (1.0.0)\n",
            "Requirement already satisfied: spark-nlp in /usr/local/lib/python3.10/dist-packages (from sparknlp) (5.4.1)\n",
            "Requirement already satisfied: numpy in /usr/local/lib/python3.10/dist-packages (from sparknlp) (1.25.2)\n",
            "Requirement already satisfied: pyspark in /usr/local/lib/python3.10/dist-packages (3.5.1)\n",
            "Requirement already satisfied: py4j==0.10.9.7 in /usr/local/lib/python3.10/dist-packages (from pyspark) (0.10.9.7)\n",
            "Requirement already satisfied: spacy in /usr/local/lib/python3.10/dist-packages (3.7.5)\n",
            "Requirement already satisfied: spacy-legacy<3.1.0,>=3.0.11 in /usr/local/lib/python3.10/dist-packages (from spacy) (3.0.12)\n",
            "Requirement already satisfied: spacy-loggers<2.0.0,>=1.0.0 in /usr/local/lib/python3.10/dist-packages (from spacy) (1.0.5)\n",
            "Requirement already satisfied: murmurhash<1.1.0,>=0.28.0 in /usr/local/lib/python3.10/dist-packages (from spacy) (1.0.10)\n",
            "Requirement already satisfied: cymem<2.1.0,>=2.0.2 in /usr/local/lib/python3.10/dist-packages (from spacy) (2.0.8)\n",
            "Requirement already satisfied: preshed<3.1.0,>=3.0.2 in /usr/local/lib/python3.10/dist-packages (from spacy) (3.0.9)\n",
            "Requirement already satisfied: thinc<8.3.0,>=8.2.2 in /usr/local/lib/python3.10/dist-packages (from spacy) (8.2.5)\n",
            "Requirement already satisfied: wasabi<1.2.0,>=0.9.1 in /usr/local/lib/python3.10/dist-packages (from spacy) (1.1.3)\n",
            "Requirement already satisfied: srsly<3.0.0,>=2.4.3 in /usr/local/lib/python3.10/dist-packages (from spacy) (2.4.8)\n",
            "Requirement already satisfied: catalogue<2.1.0,>=2.0.6 in /usr/local/lib/python3.10/dist-packages (from spacy) (2.0.10)\n",
            "Requirement already satisfied: weasel<0.5.0,>=0.1.0 in /usr/local/lib/python3.10/dist-packages (from spacy) (0.4.1)\n",
            "Requirement already satisfied: typer<1.0.0,>=0.3.0 in /usr/local/lib/python3.10/dist-packages (from spacy) (0.12.3)\n",
            "Requirement already satisfied: tqdm<5.0.0,>=4.38.0 in /usr/local/lib/python3.10/dist-packages (from spacy) (4.66.4)\n",
            "Requirement already satisfied: requests<3.0.0,>=2.13.0 in /usr/local/lib/python3.10/dist-packages (from spacy) (2.31.0)\n",
            "Requirement already satisfied: pydantic!=1.8,!=1.8.1,<3.0.0,>=1.7.4 in /usr/local/lib/python3.10/dist-packages (from spacy) (2.8.2)\n",
            "Requirement already satisfied: jinja2 in /usr/local/lib/python3.10/dist-packages (from spacy) (3.1.4)\n",
            "Requirement already satisfied: setuptools in /usr/local/lib/python3.10/dist-packages (from spacy) (67.7.2)\n",
            "Requirement already satisfied: packaging>=20.0 in /usr/local/lib/python3.10/dist-packages (from spacy) (24.1)\n",
            "Requirement already satisfied: langcodes<4.0.0,>=3.2.0 in /usr/local/lib/python3.10/dist-packages (from spacy) (3.4.0)\n",
            "Requirement already satisfied: numpy>=1.19.0 in /usr/local/lib/python3.10/dist-packages (from spacy) (1.25.2)\n",
            "Requirement already satisfied: language-data>=1.2 in /usr/local/lib/python3.10/dist-packages (from langcodes<4.0.0,>=3.2.0->spacy) (1.2.0)\n",
            "Requirement already satisfied: annotated-types>=0.4.0 in /usr/local/lib/python3.10/dist-packages (from pydantic!=1.8,!=1.8.1,<3.0.0,>=1.7.4->spacy) (0.7.0)\n",
            "Requirement already satisfied: pydantic-core==2.20.1 in /usr/local/lib/python3.10/dist-packages (from pydantic!=1.8,!=1.8.1,<3.0.0,>=1.7.4->spacy) (2.20.1)\n",
            "Requirement already satisfied: typing-extensions>=4.6.1 in /usr/local/lib/python3.10/dist-packages (from pydantic!=1.8,!=1.8.1,<3.0.0,>=1.7.4->spacy) (4.12.2)\n",
            "Requirement already satisfied: charset-normalizer<4,>=2 in /usr/local/lib/python3.10/dist-packages (from requests<3.0.0,>=2.13.0->spacy) (3.3.2)\n",
            "Requirement already satisfied: idna<4,>=2.5 in /usr/local/lib/python3.10/dist-packages (from requests<3.0.0,>=2.13.0->spacy) (3.7)\n",
            "Requirement already satisfied: urllib3<3,>=1.21.1 in /usr/local/lib/python3.10/dist-packages (from requests<3.0.0,>=2.13.0->spacy) (2.0.7)\n",
            "Requirement already satisfied: certifi>=2017.4.17 in /usr/local/lib/python3.10/dist-packages (from requests<3.0.0,>=2.13.0->spacy) (2024.7.4)\n",
            "Requirement already satisfied: blis<0.8.0,>=0.7.8 in /usr/local/lib/python3.10/dist-packages (from thinc<8.3.0,>=8.2.2->spacy) (0.7.11)\n",
            "Requirement already satisfied: confection<1.0.0,>=0.0.1 in /usr/local/lib/python3.10/dist-packages (from thinc<8.3.0,>=8.2.2->spacy) (0.1.5)\n",
            "Requirement already satisfied: click>=8.0.0 in /usr/local/lib/python3.10/dist-packages (from typer<1.0.0,>=0.3.0->spacy) (8.1.7)\n",
            "Requirement already satisfied: shellingham>=1.3.0 in /usr/local/lib/python3.10/dist-packages (from typer<1.0.0,>=0.3.0->spacy) (1.5.4)\n",
            "Requirement already satisfied: rich>=10.11.0 in /usr/local/lib/python3.10/dist-packages (from typer<1.0.0,>=0.3.0->spacy) (13.7.1)\n",
            "Requirement already satisfied: cloudpathlib<1.0.0,>=0.7.0 in /usr/local/lib/python3.10/dist-packages (from weasel<0.5.0,>=0.1.0->spacy) (0.18.1)\n",
            "Requirement already satisfied: smart-open<8.0.0,>=5.2.1 in /usr/local/lib/python3.10/dist-packages (from weasel<0.5.0,>=0.1.0->spacy) (7.0.4)\n",
            "Requirement already satisfied: MarkupSafe>=2.0 in /usr/local/lib/python3.10/dist-packages (from jinja2->spacy) (2.1.5)\n",
            "Requirement already satisfied: marisa-trie>=0.7.7 in /usr/local/lib/python3.10/dist-packages (from language-data>=1.2->langcodes<4.0.0,>=3.2.0->spacy) (1.2.0)\n",
            "Requirement already satisfied: markdown-it-py>=2.2.0 in /usr/local/lib/python3.10/dist-packages (from rich>=10.11.0->typer<1.0.0,>=0.3.0->spacy) (3.0.0)\n",
            "Requirement already satisfied: pygments<3.0.0,>=2.13.0 in /usr/local/lib/python3.10/dist-packages (from rich>=10.11.0->typer<1.0.0,>=0.3.0->spacy) (2.16.1)\n",
            "Requirement already satisfied: wrapt in /usr/local/lib/python3.10/dist-packages (from smart-open<8.0.0,>=5.2.1->weasel<0.5.0,>=0.1.0->spacy) (1.14.1)\n",
            "Requirement already satisfied: mdurl~=0.1 in /usr/local/lib/python3.10/dist-packages (from markdown-it-py>=2.2.0->rich>=10.11.0->typer<1.0.0,>=0.3.0->spacy) (0.1.2)\n",
            "Warning::Spark Session already created, some configs may not take.\n"
          ]
        }
      ],
      "source": [
        "%pip install sparknlp\n",
        "%pip install pyspark\n",
        "%pip install spacy\n",
        "import sparknlp\n",
        "import os\n",
        "import spacy\n",
        "import pyspark\n",
        "from pyspark.sql import SparkSession\n",
        "from tqdm import tqdm\n",
        "spark = sparknlp.start()"
      ]
    },
    {
      "cell_type": "code",
      "execution_count": 88,
      "metadata": {
        "id": "wdKebnQ0sJEU"
      },
      "outputs": [],
      "source": [
        "root = os.path.dirname(os.path.realpath('sparknlp.ipynb'))\n",
        "file = open(root + '/sample_data/pg1342.txt',\"r\")\n",
        "pride = file.read()"
      ]
    },
    {
      "cell_type": "code",
      "execution_count": 89,
      "metadata": {
        "colab": {
          "base_uri": "https://localhost:8080/"
        },
        "id": "_iMO7vQvujTj",
        "outputId": "4dc94438-079c-4334-bf52-a04f1380eaf8"
      },
      "outputs": [
        {
          "output_type": "stream",
          "name": "stdout",
          "text": [
            "explain_document_ml download started this may take some time.\n",
            "Approx size to download 9 MB\n",
            "[OK!]\n"
          ]
        }
      ],
      "source": [
        "from sparknlp.pretrained import PretrainedPipeline\n",
        "pipeline = PretrainedPipeline(\"explain_document_ml\")"
      ]
    },
    {
      "cell_type": "code",
      "execution_count": 90,
      "metadata": {
        "id": "1L5ZK7o_yJc5"
      },
      "outputs": [],
      "source": [
        "#result = pipeline.annotate(pride)"
      ]
    },
    {
      "cell_type": "code",
      "execution_count": 91,
      "metadata": {
        "id": "mX-93rmA0i_g"
      },
      "outputs": [],
      "source": [
        "# tok_tag = [(result['token'], result['pos'])]\n",
        "# zips = [list(zip(tt[0],tt[1])) for tt in tok_tag]"
      ]
    },
    {
      "cell_type": "code",
      "execution_count": 92,
      "metadata": {
        "id": "gtnweMxH6sSZ"
      },
      "outputs": [],
      "source": [
        "pronouns = ['he','him','his','she','her','hers']\n",
        "def pronoun_check(x):\n",
        "  '''\n",
        "  x = list of tuples\n",
        "  returns male and female pronoun count\n",
        "  '''\n",
        "  pro_toks = []\n",
        "  male_count, female_count = 0, 0\n",
        "  for i in x:\n",
        "    flag = False\n",
        "    last_pos = ''\n",
        "    last_tok = ''\n",
        "    for y in i:\n",
        "      token, pos = y\n",
        "      if flag:\n",
        "        if pos != 'NN' and pos != 'NNS' and token == '.':\n",
        "          female_count += 1\n",
        "          flag = False\n",
        "          continue\n",
        "      token = token.lower()\n",
        "      # Magic (identifies instances of 'her' that are objective)\n",
        "      if token in pronouns:\n",
        "        if token == 'her':\n",
        "          flag = True\n",
        "          last_pos = pos\n",
        "          last_tok = token\n",
        "        else:\n",
        "            if token == 'he' or token == 'him':\n",
        "              male_count += 1\n",
        "            else:\n",
        "              female_count += 1\n",
        "\n",
        "  return male_count, female_count"
      ]
    },
    {
      "cell_type": "code",
      "execution_count": 93,
      "metadata": {
        "id": "k3AFifaWn87K"
      },
      "outputs": [],
      "source": [
        "# class Node:\n",
        "#   def __init__(self, data):\n",
        "#     # reference to next node in DLL\n",
        "#     self.next = None\n",
        "#     # reference to previous node in DLL\n",
        "#     self.prev = None\n",
        "#     self.data = data\n",
        "\n",
        "# def insert_at_end(head, data):\n",
        "#   # insert new node at the end of the list\n",
        "#   new_node = Node(data)\n",
        "#   if head is None:\n",
        "#     return new_node\n",
        "\n",
        "#   current = head\n",
        "#   while current.next:\n",
        "#     current = current.next\n",
        "\n",
        "#   current.next = new_node\n",
        "#   new_node.prev = current\n",
        "#   return head\n",
        "\n",
        "# def display(head):\n",
        "#   current = head\n",
        "#   while current:\n",
        "#     print(current.data, end = \" <-> \")\n",
        "#     current = current.next\n",
        "#   print(None)"
      ]
    },
    {
      "cell_type": "code",
      "execution_count": 94,
      "metadata": {
        "id": "apB3NZUapDTq"
      },
      "outputs": [],
      "source": [
        "# head = None\n",
        "# head = insert_at_end(head, 1)\n",
        "# head = insert_at_end(head, 2)\n",
        "# head = insert_at_end(head, 3)\n",
        "\n",
        "# print(\"Doubly Linked List after insertion at the end:\")\n",
        "# display(head)"
      ]
    },
    {
      "cell_type": "code",
      "execution_count": 95,
      "metadata": {
        "id": "A-XHb5PVqX8V"
      },
      "outputs": [],
      "source": [
        "pride = pride.replace('Mr.','Mr ')\n",
        "pride = pride.replace('Mrs.','Mrs ')\n",
        "pride = pride.replace('Ms.','Ms ')\n",
        "pride = pride.replace('Dr.','Dr ')\n",
        "pride = pride.replace('_',' ')\n",
        "pride = pride.replace('-',' ')\n",
        "pride = pride.replace('\\n',' ')\n",
        "pride = pride.replace('\"\"',' ')\n",
        "pride = pride.replace('  ',' ')\n",
        "# pride = pride.lower() # caps help our NER\n",
        "pridesplit = pride.split('.')"
      ]
    },
    {
      "cell_type": "code",
      "execution_count": 96,
      "metadata": {
        "id": "0T9ebsbn15pj"
      },
      "outputs": [],
      "source": [
        "def period(sentences):\n",
        "  sent_list = []\n",
        "  for sent in sentences:\n",
        "    sent = sent+'.'\n",
        "    sent_list.append(sent)\n",
        "  return sent_list"
      ]
    },
    {
      "cell_type": "code",
      "execution_count": 97,
      "metadata": {
        "id": "waI94G2m2Q3T"
      },
      "outputs": [],
      "source": [
        "pridesplit = period(pridesplit)"
      ]
    },
    {
      "cell_type": "code",
      "execution_count": 98,
      "metadata": {
        "id": "WTg8tLnG3OEj"
      },
      "outputs": [],
      "source": [
        "# for sent in pridesplit:\n",
        "#   results = []\n",
        "#   result = pipeline.annotate(sent)\n",
        "#   results.append(result)\n",
        "# return results"
      ]
    },
    {
      "cell_type": "code",
      "execution_count": 99,
      "metadata": {
        "colab": {
          "base_uri": "https://localhost:8080/"
        },
        "id": "zvwfjdrhtni8",
        "outputId": "8b2d92ec-ed36-4f02-9e59-729c8a09aaf2"
      },
      "outputs": [
        {
          "output_type": "stream",
          "name": "stderr",
          "text": [
            "100%|██████████| 5516/5516 [10:32<00:00,  8.72it/s]\n"
          ]
        },
        {
          "output_type": "execute_result",
          "data": {
            "text/plain": [
              "{'comyns carr            ': (0, 1),\n",
              " 'mary': (0, 4),\n",
              " 'crawford': (2, 0),\n",
              " 'mrs norris': (0, 1),\n",
              " 'miss bates': (0, 1),\n",
              " 'miss austen': (0, 1),\n",
              " 'austen': (0, 1),\n",
              " 'darcy': (0, 1),\n",
              " 'elizabeth': (0, 1),\n",
              " 'john thorpe': (0, 1),\n",
              " 'swift': (0, 2),\n",
              " 'smollett': (0, 1),\n",
              " 'miss burney': (0, 1),\n",
              " 'buff': (1, 3),\n",
              " 'lydia bennet': (0, 2),\n",
              " 'mrs musgrove’s': (0, 1),\n",
              " 'bennet': (1, 3),\n",
              " 'goldwin smith': (1, 1),\n",
              " 'memling': (0, 1),\n",
              " 'meissonier': (0, 1),\n",
              " 'collins': (0, 1),\n",
              " 'jane': (0, 1),\n",
              " 'mrs bennet': (0, 1),\n",
              " 'john dashwood': (1, 0),\n",
              " 'lady catherine de bourgh': (0, 1),\n",
              " 'mr collins': (0, 1),\n",
              " 'lady catherine': (1, 3),\n",
              " 'austen leigh': (0, 2),\n",
              " 'bingleys': (1, 1),\n",
              " 'miss de bourgh': (1, 4),\n",
              " 'wickham': (0, 1),\n",
              " 'don juanish': (2, 1),\n",
              " 'pemberley': (2, 0),\n",
              " 'lizzy': (1, 0),\n",
              " 'mrs long': (0, 1),\n",
              " 'michaelmas': (3, 1),\n",
              " 'mr bingley': (0, 2),\n",
              " 'mr bennet': (1, 2),\n",
              " 'kitty': (0, 1),\n",
              " 'bingley': (0, 3),\n",
              " 'william': (1, 1),\n",
              " 'george allen': (0, 1),\n",
              " 'mrs hurst': (0, 1),\n",
              " 'elizabeth bennet': (0, 1),\n",
              " 'miss king': (1, 4),\n",
              " 'maria lucas': (0, 3),\n",
              " 'mrs hurst’s': (0, 1),\n",
              " 'miss bingley': (2, 0),\n",
              " 'miss bennet': (0, 1),\n",
              " 'william lucas': (3, 1),\n",
              " 'lucas lodge': (3, 4),\n",
              " 'james': (2, 3),\n",
              " 'robinson': (5, 1),\n",
              " 'lucas': (4, 7),\n",
              " 'charlotte': (1, 3),\n",
              " 'forster': (2, 0),\n",
              " 'miss eliza': (0, 1),\n",
              " 'eliza': (2, 2),\n",
              " 'catherine': (1, 0),\n",
              " 'lydia': (1, 1),\n",
              " 'carter': (1, 0),\n",
              " 'watson': (0, 1),\n",
              " 'mrs bennet’s': (0, 1),\n",
              " 'jones': (1, 4),\n",
              " 'mr hurst': (0, 1),\n",
              " 'jane bennet': (0, 2),\n",
              " 'hurst': (2, 1),\n",
              " 'netherfield': (1, 2),\n",
              " 'charlotte lucas': (0, 1),\n",
              " 'gardiner': (1, 0),\n",
              " 'grantley': (0, 1),\n",
              " 'caroline': (0, 2),\n",
              " 'charles': (1, 2),\n",
              " 'catherine de bourgh': (0, 1),\n",
              " 'lewis': (0, 1),\n",
              " 'de bourgh': (1, 1),\n",
              " 'lady catherine de bourgh’s': (0, 2),\n",
              " 'richard': (5, 1),\n",
              " 'longbourn': (0, 1),\n",
              " 'meryton': (0, 2),\n",
              " 'denny': (2, 1),\n",
              " 'mrs philips': (1, 4),\n",
              " 'philipses': (1, 1),\n",
              " 'mr wickham': (2, 0),\n",
              " 'mrs philips’s': (1, 4),\n",
              " 'rosings': (0, 1),\n",
              " 'lady anne darcy': (0, 1),\n",
              " 'george wickham': (0, 1),\n",
              " 'lady catherine’s': (2, 1),\n",
              " 'lady lucas': (0, 3),\n",
              " 'mrs jenkinson': (0, 4),\n",
              " 'hunsford': (0, 1),\n",
              " 'caroline bingley': (0, 1),\n",
              " 'georgiana darcy': (0, 2),\n",
              " 'mrs gardiner': (0, 2),\n",
              " 'mrs gardiner’s': (0, 3),\n",
              " 'to mrs gardiner': (0, 1),\n",
              " 'fitzwilliam darcy': (1, 2),\n",
              " 'maria': (1, 1),\n",
              " 'mrs collins': (0, 1),\n",
              " 'lewis de bourgh': (0, 3),\n",
              " 'lady metcalfe’s': (0, 1),\n",
              " 'mrs collins’s': (3, 4),\n",
              " 'hunsford lane': (1, 1),\n",
              " 'fitzwilliam': (0, 1),\n",
              " 'fitzwilliam reminded elizabeth': (1, 1),\n",
              " 'anne': (0, 1),\n",
              " 'kent': (0, 1),\n",
              " 'mrs younge': (1, 1),\n",
              " 'coloured satin': (0, 2),\n",
              " 'mary king': (0, 2),\n",
              " 'mrs forster': (0, 3),\n",
              " 'harriet': (2, 2),\n",
              " 'chamberlayne': (2, 2),\n",
              " 'lucases': (0, 1),\n",
              " 'george': (0, 1),\n",
              " 'brighton': (0, 2),\n",
              " 'miller': (0, 1),\n",
              " 'wholly': (0, 1),\n",
              " 'peak': (0, 2),\n",
              " 'satin curtains': (0, 3),\n",
              " 'mrs reynolds': (1, 0),\n",
              " 'bakewell': (1, 6),\n",
              " 'dovedale': (0, 2),\n",
              " 'derbyshire': (3, 3),\n",
              " 'mrs annesley': (0, 1),\n",
              " 'louisa': (0, 2),\n",
              " 'gretna green': (1, 0),\n",
              " 'epsom': (1, 1),\n",
              " 'mrs f.': (1, 0),\n",
              " 'john': (1, 0),\n",
              " 'lizzie': (2, 1),\n",
              " 'clapham': (1, 1),\n",
              " 'mrs hill': (0, 3),\n",
              " 'mrs wickham': (0, 2),\n",
              " 'hill': (0, 1),\n",
              " 'ashworth': (0, 1),\n",
              " 'purvis lodge': (0, 1),\n",
              " 'miss bennets': (0, 2),\n",
              " 'william goulding': (3, 5),\n",
              " 'mrs nichols': (1, 2),\n",
              " 'tis': (1, 0),\n",
              " 'sarah': (0, 1),\n",
              " 'collinses': (0, 1),\n",
              " 'mrs bingley': (0, 1),\n",
              " 'mrs darcy': (0, 1),\n",
              " 'project gutenberg': (1, 0)}"
            ]
          },
          "metadata": {},
          "execution_count": 99
        }
      ],
      "source": [
        "nlp = spacy.load('en_core_web_sm')\n",
        "personGenderCount = {} # person: malePronounCount, femalePronounCount\n",
        "# for sent in pridesplit:\n",
        "for sent in tqdm(pridesplit): # for each sentence in pride\n",
        "  doc = nlp(sent) # create the spacy doc\n",
        "  people = []\n",
        "  for ent in doc.ents:\n",
        "    if ent.label_ == 'PERSON': # get all people entities\n",
        "      people.append(ent.text)\n",
        "  if len(people) == 0: # if we didn't find any people\n",
        "    continue #  move on to next sentence (for now)\n",
        "  annoted_sent = pipeline.annotate(sent) # annotate with parts of speach\n",
        "  tok_tag = [(annoted_sent['token'], annoted_sent['pos'])] # get the tokens and parts of speech\n",
        "  zips = [list(zip(tt[0],tt[1])) for tt in tok_tag] # get the pronoun zips\n",
        "  male_count, female_count = pronoun_check(zips) # count the pronouns\n",
        "  if male_count + female_count == 0: # if we didn't find any pronouns\n",
        "    continue #  move on to next sentence\n",
        "  for person in people: # for each person in the sentence\n",
        "    try: # if they already exist in the dict\n",
        "      # add the new counts to the old\n",
        "      person_male_count = personGenderCount[person][0]\n",
        "      person_female_count = personGenderCount[person][1]\n",
        "      personGenderCount[person.lower()] = person_male_count + male_count, person_female_count + female_count\n",
        "    except KeyError: # if they don't exist in the dict\n",
        "      personGenderCount[person.lower()] = male_count, female_count # add them to the dict\n",
        "\n",
        "\n",
        "personGenderCount\n"
      ]
    },
    {
      "cell_type": "code",
      "source": [
        "# convert personGenderCount to list\n",
        "personGenderList = []\n",
        "for key, value in personGenderCount.items():\n",
        "  m_count, f_count = value[0], value[1]\n",
        "  if (m_count == 0 and f_count == 0) or (m_count + f_count < 10):\n",
        "    continue\n",
        "  personGenderList.append([key, value[0], value[1]])\n"
      ],
      "metadata": {
        "id": "pfMAbC1zXbHf"
      },
      "execution_count": 100,
      "outputs": []
    },
    {
      "cell_type": "code",
      "source": [
        "out_list = [] # will consist of [name, prediction, actual]\n",
        "for person in personGenderList:\n",
        "  name, male_count, female_count = person[0], person[1], person[2]\n",
        "  prediciton = 1 if male_count > female_count else 0\n",
        "  actual = input('Is ' + name + ': ' + str(prediciton) + '? ')\n",
        "  out_list.append([name, prediciton, actual])"
      ],
      "metadata": {
        "id": "naMWykihBnWq"
      },
      "execution_count": null,
      "outputs": []
    },
    {
      "cell_type": "code",
      "source": [
        "import pandas as pd\n",
        "import datetime\n",
        "df = pd.DataFrame(out_list, columns=['name', 'prediction', 'actual'])\n",
        "df = df.astype({'actual': int})\n",
        "df.to_csv('output_' + datetime.datetime.now().strftime(\"%Y-%m-%d\") + '.csv', index=False)\n",
        "df = df[df['actual'] != -1] # drop locations, after filesave (for scoring)\n"
      ],
      "metadata": {
        "id": "xUR-2pAwYGsV"
      },
      "execution_count": null,
      "outputs": []
    },
    {
      "cell_type": "code",
      "source": [
        "df"
      ],
      "metadata": {
        "id": "Yd6BXfjc2-nI"
      },
      "execution_count": null,
      "outputs": []
    },
    {
      "cell_type": "code",
      "source": [
        "# calculate accuracy, when predicted == actual that's good\n",
        "accuracy = (df['prediction'] == df['actual']).sum() / len(df)\n",
        "print(f'Accuracy: {round(accuracy*100,2)}%')"
      ],
      "metadata": {
        "id": "F4X-VCkg2_O0"
      },
      "execution_count": null,
      "outputs": []
    },
    {
      "cell_type": "code",
      "source": [
        "# female accuracy\n",
        "female_df = df[df['actual'] == 0]\n",
        "female_accuracy = (female_df['prediction'] == female_df['actual']).sum() / len(female_df)\n",
        "print(f'Female Accuracy: {round(female_accuracy*100,2)}%')\n",
        "# male accuracy\n",
        "male_df = df[df['actual'] == 1]\n",
        "male_accuracy = (male_df['prediction'] == male_df['actual']).sum() / len(male_df)\n",
        "print(f'Male Accuracy: {round(male_accuracy*100,2)}%')\n"
      ],
      "metadata": {
        "id": "h64nhVrK3B8z"
      },
      "execution_count": null,
      "outputs": []
    }
  ],
  "metadata": {
    "colab": {
      "provenance": []
    },
    "kernelspec": {
      "display_name": "Python 3",
      "name": "python3"
    },
    "language_info": {
      "name": "python"
    }
  },
  "nbformat": 4,
  "nbformat_minor": 0
}