{
  "nbformat": 4,
  "nbformat_minor": 0,
  "metadata": {
    "colab": {
      "provenance": []
    },
    "kernelspec": {
      "name": "python3",
      "display_name": "Python 3"
    },
    "language_info": {
      "name": "python"
    }
  },
  "cells": [
    {
      "cell_type": "markdown",
      "source": [
        "## Introduction\n",
        "\n",
        "Is is possible to predict the gender of a character in a story using the pronouns around them?\n",
        "\n",
        "Yes\n",
        "\n",
        "He and she are objective pronouns\n",
        "\n",
        "Him and her are subjective pronouns\n",
        "\n",
        "His and her are possessive adjectives\n",
        "\n",
        "His and hers are possessive pronouns\n",
        "\n",
        "\"Her\" is possessive when followed by a noun.\n",
        "\n",
        "## Methodology\n",
        "\n",
        "## Hypothesis\n",
        "\n"
      ],
      "metadata": {
        "id": "ta4B7Z6liHqq"
      }
    },
    {
      "cell_type": "code",
      "execution_count": null,
      "metadata": {
        "colab": {
          "base_uri": "https://localhost:8080/"
        },
        "id": "vsMErUvkqQHk",
        "outputId": "6e0e51ab-0b63-42db-b1e7-387a2969e2db"
      },
      "outputs": [
        {
          "output_type": "stream",
          "name": "stdout",
          "text": [
            "Requirement already satisfied: sparknlp in /usr/local/lib/python3.10/dist-packages (1.0.0)\n",
            "Requirement already satisfied: spark-nlp in /usr/local/lib/python3.10/dist-packages (from sparknlp) (5.4.1)\n",
            "Requirement already satisfied: numpy in /usr/local/lib/python3.10/dist-packages (from sparknlp) (1.25.2)\n",
            "Requirement already satisfied: pyspark in /usr/local/lib/python3.10/dist-packages (3.5.1)\n",
            "Requirement already satisfied: py4j==0.10.9.7 in /usr/local/lib/python3.10/dist-packages (from pyspark) (0.10.9.7)\n",
            "Requirement already satisfied: spacy in /usr/local/lib/python3.10/dist-packages (3.7.5)\n",
            "Requirement already satisfied: spacy-legacy<3.1.0,>=3.0.11 in /usr/local/lib/python3.10/dist-packages (from spacy) (3.0.12)\n",
            "Requirement already satisfied: spacy-loggers<2.0.0,>=1.0.0 in /usr/local/lib/python3.10/dist-packages (from spacy) (1.0.5)\n",
            "Requirement already satisfied: murmurhash<1.1.0,>=0.28.0 in /usr/local/lib/python3.10/dist-packages (from spacy) (1.0.10)\n",
            "Requirement already satisfied: cymem<2.1.0,>=2.0.2 in /usr/local/lib/python3.10/dist-packages (from spacy) (2.0.8)\n",
            "Requirement already satisfied: preshed<3.1.0,>=3.0.2 in /usr/local/lib/python3.10/dist-packages (from spacy) (3.0.9)\n",
            "Requirement already satisfied: thinc<8.3.0,>=8.2.2 in /usr/local/lib/python3.10/dist-packages (from spacy) (8.2.5)\n",
            "Requirement already satisfied: wasabi<1.2.0,>=0.9.1 in /usr/local/lib/python3.10/dist-packages (from spacy) (1.1.3)\n",
            "Requirement already satisfied: srsly<3.0.0,>=2.4.3 in /usr/local/lib/python3.10/dist-packages (from spacy) (2.4.8)\n",
            "Requirement already satisfied: catalogue<2.1.0,>=2.0.6 in /usr/local/lib/python3.10/dist-packages (from spacy) (2.0.10)\n",
            "Requirement already satisfied: weasel<0.5.0,>=0.1.0 in /usr/local/lib/python3.10/dist-packages (from spacy) (0.4.1)\n",
            "Requirement already satisfied: typer<1.0.0,>=0.3.0 in /usr/local/lib/python3.10/dist-packages (from spacy) (0.12.3)\n",
            "Requirement already satisfied: tqdm<5.0.0,>=4.38.0 in /usr/local/lib/python3.10/dist-packages (from spacy) (4.66.4)\n",
            "Requirement already satisfied: requests<3.0.0,>=2.13.0 in /usr/local/lib/python3.10/dist-packages (from spacy) (2.31.0)\n",
            "Requirement already satisfied: pydantic!=1.8,!=1.8.1,<3.0.0,>=1.7.4 in /usr/local/lib/python3.10/dist-packages (from spacy) (2.8.2)\n",
            "Requirement already satisfied: jinja2 in /usr/local/lib/python3.10/dist-packages (from spacy) (3.1.4)\n",
            "Requirement already satisfied: setuptools in /usr/local/lib/python3.10/dist-packages (from spacy) (67.7.2)\n",
            "Requirement already satisfied: packaging>=20.0 in /usr/local/lib/python3.10/dist-packages (from spacy) (24.1)\n",
            "Requirement already satisfied: langcodes<4.0.0,>=3.2.0 in /usr/local/lib/python3.10/dist-packages (from spacy) (3.4.0)\n",
            "Requirement already satisfied: numpy>=1.19.0 in /usr/local/lib/python3.10/dist-packages (from spacy) (1.25.2)\n",
            "Requirement already satisfied: language-data>=1.2 in /usr/local/lib/python3.10/dist-packages (from langcodes<4.0.0,>=3.2.0->spacy) (1.2.0)\n",
            "Requirement already satisfied: annotated-types>=0.4.0 in /usr/local/lib/python3.10/dist-packages (from pydantic!=1.8,!=1.8.1,<3.0.0,>=1.7.4->spacy) (0.7.0)\n",
            "Requirement already satisfied: pydantic-core==2.20.1 in /usr/local/lib/python3.10/dist-packages (from pydantic!=1.8,!=1.8.1,<3.0.0,>=1.7.4->spacy) (2.20.1)\n",
            "Requirement already satisfied: typing-extensions>=4.6.1 in /usr/local/lib/python3.10/dist-packages (from pydantic!=1.8,!=1.8.1,<3.0.0,>=1.7.4->spacy) (4.12.2)\n",
            "Requirement already satisfied: charset-normalizer<4,>=2 in /usr/local/lib/python3.10/dist-packages (from requests<3.0.0,>=2.13.0->spacy) (3.3.2)\n",
            "Requirement already satisfied: idna<4,>=2.5 in /usr/local/lib/python3.10/dist-packages (from requests<3.0.0,>=2.13.0->spacy) (3.7)\n",
            "Requirement already satisfied: urllib3<3,>=1.21.1 in /usr/local/lib/python3.10/dist-packages (from requests<3.0.0,>=2.13.0->spacy) (2.0.7)\n",
            "Requirement already satisfied: certifi>=2017.4.17 in /usr/local/lib/python3.10/dist-packages (from requests<3.0.0,>=2.13.0->spacy) (2024.7.4)\n",
            "Requirement already satisfied: blis<0.8.0,>=0.7.8 in /usr/local/lib/python3.10/dist-packages (from thinc<8.3.0,>=8.2.2->spacy) (0.7.11)\n",
            "Requirement already satisfied: confection<1.0.0,>=0.0.1 in /usr/local/lib/python3.10/dist-packages (from thinc<8.3.0,>=8.2.2->spacy) (0.1.5)\n",
            "Requirement already satisfied: click>=8.0.0 in /usr/local/lib/python3.10/dist-packages (from typer<1.0.0,>=0.3.0->spacy) (8.1.7)\n",
            "Requirement already satisfied: shellingham>=1.3.0 in /usr/local/lib/python3.10/dist-packages (from typer<1.0.0,>=0.3.0->spacy) (1.5.4)\n",
            "Requirement already satisfied: rich>=10.11.0 in /usr/local/lib/python3.10/dist-packages (from typer<1.0.0,>=0.3.0->spacy) (13.7.1)\n",
            "Requirement already satisfied: cloudpathlib<1.0.0,>=0.7.0 in /usr/local/lib/python3.10/dist-packages (from weasel<0.5.0,>=0.1.0->spacy) (0.18.1)\n",
            "Requirement already satisfied: smart-open<8.0.0,>=5.2.1 in /usr/local/lib/python3.10/dist-packages (from weasel<0.5.0,>=0.1.0->spacy) (7.0.4)\n",
            "Requirement already satisfied: MarkupSafe>=2.0 in /usr/local/lib/python3.10/dist-packages (from jinja2->spacy) (2.1.5)\n",
            "Requirement already satisfied: marisa-trie>=0.7.7 in /usr/local/lib/python3.10/dist-packages (from language-data>=1.2->langcodes<4.0.0,>=3.2.0->spacy) (1.2.0)\n",
            "Requirement already satisfied: markdown-it-py>=2.2.0 in /usr/local/lib/python3.10/dist-packages (from rich>=10.11.0->typer<1.0.0,>=0.3.0->spacy) (3.0.0)\n",
            "Requirement already satisfied: pygments<3.0.0,>=2.13.0 in /usr/local/lib/python3.10/dist-packages (from rich>=10.11.0->typer<1.0.0,>=0.3.0->spacy) (2.16.1)\n",
            "Requirement already satisfied: wrapt in /usr/local/lib/python3.10/dist-packages (from smart-open<8.0.0,>=5.2.1->weasel<0.5.0,>=0.1.0->spacy) (1.14.1)\n",
            "Requirement already satisfied: mdurl~=0.1 in /usr/local/lib/python3.10/dist-packages (from markdown-it-py>=2.2.0->rich>=10.11.0->typer<1.0.0,>=0.3.0->spacy) (0.1.2)\n",
            "Warning::Spark Session already created, some configs may not take.\n"
          ]
        }
      ],
      "source": [
        "%pip install sparknlp\n",
        "%pip install pyspark\n",
        "%pip install spacy\n",
        "import sparknlp\n",
        "import os\n",
        "import spacy\n",
        "import pyspark\n",
        "from pyspark.sql import SparkSession\n",
        "from tqdm import tqdm\n",
        "spark = sparknlp.start()"
      ]
    },
    {
      "cell_type": "code",
      "source": [
        "from sparknlp.pretrained import PretrainedPipeline\n",
        "root = os.path.dirname(os.path.realpath('sparknlp.ipynb'))\n",
        "file = open(root + '/pg1342.txt',\"r\")\n",
        "pride = file.read()"
      ],
      "metadata": {
        "id": "wdKebnQ0sJEU"
      },
      "execution_count": null,
      "outputs": []
    },
    {
      "cell_type": "code",
      "source": [
        "pipeline = PretrainedPipeline(\"explain_document_ml\")"
      ],
      "metadata": {
        "colab": {
          "base_uri": "https://localhost:8080/"
        },
        "id": "_iMO7vQvujTj",
        "outputId": "744524d4-bd0b-492a-a674-b16ebadc72b2"
      },
      "execution_count": null,
      "outputs": [
        {
          "output_type": "stream",
          "name": "stdout",
          "text": [
            "explain_document_ml download started this may take some time.\n",
            "Approx size to download 9 MB\n",
            "[OK!]\n"
          ]
        }
      ]
    },
    {
      "cell_type": "code",
      "source": [
        "#result = pipeline.annotate(pride)"
      ],
      "metadata": {
        "id": "1L5ZK7o_yJc5"
      },
      "execution_count": null,
      "outputs": []
    },
    {
      "cell_type": "code",
      "source": [
        "tok_tag = [(result['token'], result['pos'])]\n",
        "zips = [list(zip(tt[0],tt[1])) for tt in tok_tag]"
      ],
      "metadata": {
        "id": "mX-93rmA0i_g"
      },
      "execution_count": null,
      "outputs": []
    },
    {
      "cell_type": "code",
      "source": [
        "pronouns = ['he','him','his','she','her','hers']\n",
        "def pronoun_check(x):\n",
        "  '''\n",
        "  x = list of tuples\n",
        "  returns list of tuples with only pronouns\n",
        "  '''\n",
        "  pro_toks = []\n",
        "  male_count, female_count = 0, 0\n",
        "  for i in x:\n",
        "    flag = False\n",
        "    last_pos = ''\n",
        "    last_tok = ''\n",
        "    for y in i:\n",
        "      if flag:\n",
        "        if pos != 'NN' and pos != 'NNS' and token == '.':\n",
        "          female_count += 1\n",
        "          flag = False\n",
        "          continue\n",
        "      token, pos = y\n",
        "      token = token.lower()\n",
        "      # Magic (identifies instances of 'her' that are objective)\n",
        "      if token in pronouns:\n",
        "        if token == 'her':\n",
        "          flag = True\n",
        "          last_pos = pos\n",
        "          last_tok = token\n",
        "        else:\n",
        "            if token == 'he' or token == 'him':\n",
        "              male_count += 1\n",
        "            else:\n",
        "              female_count += 1\n",
        "\n",
        "  return male_count, female_count\n",
        "\n",
        "#def count_pronouns(x):"
      ],
      "metadata": {
        "id": "gtnweMxH6sSZ"
      },
      "execution_count": null,
      "outputs": []
    },
    {
      "cell_type": "code",
      "source": [
        "class Node:\n",
        "  def __init__(self, data):\n",
        "    # reference to next node in DLL\n",
        "    self.next = None\n",
        "    # reference to previous node in DLL\n",
        "    self.prev = None\n",
        "    self.data = data\n",
        "\n",
        "def insert_at_end(head, data):\n",
        "  # insert new node at the end of the list\n",
        "  new_node = Node(data)\n",
        "  if head is None:\n",
        "    return new_node\n",
        "\n",
        "  current = head\n",
        "  while current.next:\n",
        "    current = current.next\n",
        "\n",
        "  current.next = new_node\n",
        "  new_node.prev = current\n",
        "  return head\n",
        "\n",
        "def display(head):\n",
        "  current = head\n",
        "  while current:\n",
        "    print(current.data, end = \" <-> \")\n",
        "    current = current.next\n",
        "  print(None)"
      ],
      "metadata": {
        "id": "k3AFifaWn87K"
      },
      "execution_count": null,
      "outputs": []
    },
    {
      "cell_type": "code",
      "source": [
        "head = None\n",
        "head = insert_at_end(head, 1)\n",
        "head = insert_at_end(head, 2)\n",
        "head = insert_at_end(head, 3)\n",
        "\n",
        "print(\"Doubly Linked List after insertion at the end:\")\n",
        "display(head)"
      ],
      "metadata": {
        "colab": {
          "base_uri": "https://localhost:8080/"
        },
        "id": "apB3NZUapDTq",
        "outputId": "c85eac7f-aa31-4d19-d93a-13080de0dc74"
      },
      "execution_count": null,
      "outputs": [
        {
          "output_type": "stream",
          "name": "stdout",
          "text": [
            "Doubly Linked List after insertion at the end:\n",
            "1 <-> 2 <-> 3 <-> None\n"
          ]
        }
      ]
    },
    {
      "cell_type": "code",
      "source": [
        "pride = pride.replace('Mr.','Mr')\n",
        "pride = pride.replace('Mrs.','Mrs')\n",
        "pride = pride.replace('Ms.','Ms')\n",
        "pride = pride.replace('Dr.','Dr')\n",
        "pride = pride.replace('_','')\n",
        "pride = pride.replace('-','')\n",
        "pridesplit = pride.split('.')"
      ],
      "metadata": {
        "id": "A-XHb5PVqX8V"
      },
      "execution_count": null,
      "outputs": []
    },
    {
      "cell_type": "code",
      "source": [
        "def period(sentences):\n",
        "  sent_list = []\n",
        "  for sent in sentences:\n",
        "    sent = sent+'.'\n",
        "    sent_list.append(sent)\n",
        "  return sent_list"
      ],
      "metadata": {
        "id": "0T9ebsbn15pj"
      },
      "execution_count": null,
      "outputs": []
    },
    {
      "cell_type": "code",
      "source": [
        "pridesplit = period(pridesplit)"
      ],
      "metadata": {
        "id": "waI94G2m2Q3T"
      },
      "execution_count": null,
      "outputs": []
    },
    {
      "cell_type": "code",
      "source": [
        "for sent in pridesplit:\n",
        "  results = []\n",
        "  result = pipeline.annotate(sent)\n",
        "  results.append(result)\n",
        "return results"
      ],
      "metadata": {
        "id": "WTg8tLnG3OEj"
      },
      "execution_count": null,
      "outputs": []
    },
    {
      "cell_type": "code",
      "source": [
        "nlp = spacy.load('en_core_web_sm')\n",
        "personGenderCount = {} # person: malePronounCount, femalePronounCount\n",
        "# for sent in pridesplit:\n",
        "for sent in tqdm(pridesplit[:1000]):\n",
        "  doc = nlp(sent)\n",
        "  people = []\n",
        "  for ent in doc.ents:\n",
        "    if ent.label_ == 'PERSON':\n",
        "      people.append(ent.text)\n",
        "  if len(people) == 0:\n",
        "    continue\n",
        "  annoted_sent = pipeline.annotate(sent)\n",
        "  tok_tag = [(annoted_sent['token'], annoted_sent['pos'])]\n",
        "  zips = [list(zip(tt[0],tt[1])) for tt in tok_tag]\n",
        "  male_count, female_count = pronoun_check(zips)\n",
        "  for person in people:\n",
        "    try:\n",
        "      person_male_count = personGenderCount[person][0]\n",
        "      person_female_count = personGenderCount[person][1]\n",
        "      personGenderCount[person] = person_male_count + male_count, person_female_count + female_count\n",
        "    except KeyError:\n",
        "      personGenderCount[person] = male_count, female_count\n",
        "\n",
        "\n",
        "personGenderCount\n"
      ],
      "metadata": {
        "colab": {
          "base_uri": "https://localhost:8080/"
        },
        "id": "zvwfjdrhtni8",
        "outputId": "b14a81c5-88c6-4c31-95ce-ebc9a1ada881"
      },
      "execution_count": null,
      "outputs": [
        {
          "output_type": "stream",
          "name": "stderr",
          "text": [
            "  1%|▏         | 14/1000 [00:02<02:11,  7.51it/s]"
          ]
        }
      ]
    }
  ]
}