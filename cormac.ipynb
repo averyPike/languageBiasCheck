{
 "cells": [
  {
   "cell_type": "markdown",
   "source": [
    "# Calvins example"
   ],
   "metadata": {
    "collapsed": false
   },
   "id": "38b35b5ec9fecb05"
  },
  {
   "cell_type": "code",
   "execution_count": 1,
   "id": "initial_id",
   "metadata": {
    "collapsed": true,
    "ExecuteTime": {
     "end_time": "2024-07-17T23:55:40.224266300Z",
     "start_time": "2024-07-17T23:55:39.813293900Z"
    }
   },
   "outputs": [
    {
     "ename": "ModuleNotFoundError",
     "evalue": "No module named 'sparknlp'",
     "output_type": "error",
     "traceback": [
      "\u001B[1;31m---------------------------------------------------------------------------\u001B[0m",
      "\u001B[1;31mModuleNotFoundError\u001B[0m                       Traceback (most recent call last)",
      "Cell \u001B[1;32mIn[1], line 1\u001B[0m\n\u001B[1;32m----> 1\u001B[0m \u001B[38;5;28;01mimport\u001B[39;00m \u001B[38;5;21;01msparknlp\u001B[39;00m\n\u001B[0;32m      2\u001B[0m \u001B[38;5;66;03m# from pyspark.sql import SparkSession\u001B[39;00m\n\u001B[0;32m      3\u001B[0m \u001B[38;5;28;01mfrom\u001B[39;00m \u001B[38;5;21;01msparknlp\u001B[39;00m\u001B[38;5;21;01m.\u001B[39;00m\u001B[38;5;21;01mpretrained\u001B[39;00m \u001B[38;5;28;01mimport\u001B[39;00m PretrainedPipeline \n",
      "\u001B[1;31mModuleNotFoundError\u001B[0m: No module named 'sparknlp'"
     ]
    }
   ],
   "source": [
    "import sparknlp\n",
    "# from pyspark.sql import SparkSession\n",
    "from sparknlp.pretrained import PretrainedPipeline \n",
    "spark = sparknlp.start()"
   ]
  },
  {
   "cell_type": "code",
   "execution_count": null,
   "outputs": [],
   "source": [
    "hls = [ # example headlines provided by Calvin\n",
    "    \"She ran\",\n",
    "    \"He ran\",\n",
    "    \"I saw her\",\n",
    "    \"I saw him\",\n",
    "    \"I know her name\",\n",
    "    \"I know his name\",\n",
    "    \"That is hers\",\n",
    "    \"That is his\"\n",
    "]"
   ],
   "metadata": {
    "collapsed": false,
    "ExecuteTime": {
     "start_time": "2024-07-17T23:43:55.381986500Z"
    }
   },
   "id": "4a3e428b7bf78d6a"
  },
  {
   "cell_type": "code",
   "execution_count": null,
   "outputs": [],
   "source": [
    "dfs = [PretrainedPipeline.annotate(hl) for hl in hls]"
   ],
   "metadata": {
    "collapsed": false,
    "ExecuteTime": {
     "end_time": "2024-07-17T23:43:55.389975Z",
     "start_time": "2024-07-17T23:43:55.389975Z"
    }
   },
   "id": "fbcd57226d4a3c93"
  },
  {
   "cell_type": "code",
   "execution_count": null,
   "outputs": [],
   "source": [
    "tok_tag = [(df['token'], df['pos']) for df in dfs] # Extract words (tokens) and parts-of-speech\n",
    "zips = [list(zip(tt[0], tt[1])) for tt in tok_tag] # Fuse part-of-speech tags to words"
   ],
   "metadata": {
    "collapsed": false,
    "ExecuteTime": {
     "start_time": "2024-07-17T23:43:55.389975Z"
    }
   },
   "id": "83889de1bb0080bb"
  },
  {
   "cell_type": "code",
   "execution_count": null,
   "outputs": [],
   "source": [
    "# open pg1342.txt form books\n",
    "austen = open('pg1342.txt', 'r').read()"
   ],
   "metadata": {
    "collapsed": false,
    "ExecuteTime": {
     "start_time": "2024-07-17T23:43:55.397153700Z"
    }
   },
   "id": "58a75eedfb50454f"
  },
  {
   "cell_type": "code",
   "execution_count": null,
   "outputs": [],
   "source": [
    "PretrainedPipeline.annotate(austen[:100])['pos']"
   ],
   "metadata": {
    "collapsed": false,
    "ExecuteTime": {
     "start_time": "2024-07-17T23:43:55.398066700Z"
    }
   },
   "id": "ad5c9f165301dc94"
  },
  {
   "cell_type": "code",
   "execution_count": null,
   "outputs": [],
   "source": [
    "# spark = SparkSession.builder.appName(\"demo\").getOrCreate() # Create Spark session\n",
    "# counts = ( # its map reduce folks\n",
    "#     austen.flatMap(lambda line: line.split(\" \"))\n",
    "#     .map(lambda word: (word, 1)) # Map each word to a tuple of (word, 1)\n",
    "#     .reduceByKey(lambda a, b: a + b) # Reduce by adding the values\n",
    "# )\n",
    "# counts.collect()[:10]\n",
    "\n",
    "def map_reduce(text):\n",
    "    counts = ( # its map reduce folks\n",
    "        text.flatMap(lambda line: line.split(\" \"))\n",
    "        .map(lambda word: (word, 1)) # Map each word to a tuple of (word, 1)\n",
    "        .reduceByKey(lambda a, b: a + b) # Reduce by adding the values\n",
    "    )\n",
    "    return counts.collect()[:10]\n",
    "\n",
    "map_reduce(austen)"
   ],
   "metadata": {
    "collapsed": false,
    "ExecuteTime": {
     "start_time": "2024-07-17T23:43:55.400158700Z"
    }
   },
   "id": "5ef97717f7a4aa78"
  }
 ],
 "metadata": {
  "kernelspec": {
   "display_name": "Python 3",
   "language": "python",
   "name": "python3"
  },
  "language_info": {
   "codemirror_mode": {
    "name": "ipython",
    "version": 2
   },
   "file_extension": ".py",
   "mimetype": "text/x-python",
   "name": "python",
   "nbconvert_exporter": "python",
   "pygments_lexer": "ipython2",
   "version": "2.7.6"
  }
 },
 "nbformat": 4,
 "nbformat_minor": 5
}
